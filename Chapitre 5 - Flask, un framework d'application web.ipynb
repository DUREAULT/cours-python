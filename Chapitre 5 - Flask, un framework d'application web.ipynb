{
 "cells": [
  {
   "cell_type": "markdown",
   "metadata": {},
   "source": [
    "# Chapitre 5 - Flask, un framework d'application web "
   ]
  },
  {
   "cell_type": "markdown",
   "metadata": {},
   "source": [
    "## Les objets : une rapide introduction\n",
    "\n",
    "En programmation, et particulièrement en python, les objets sont des éléments extrêmements importants.\n",
    "\n",
    "### Ce que l'on a déjà vu mais pas sous ces termes \n",
    "\n",
    "Tout commence avec les classes d'objet. Une classe d'objet est une grande catégorie de valeurs qui sont régies par un ensemble de lois similaires et qui peuvent fonctionner de telle ou telle manière. vous connaissez par exemple les classes `str` et les classes `list`."
   ]
  },
  {
   "cell_type": "code",
   "execution_count": null,
   "metadata": {},
   "outputs": [],
   "source": [
    "print(type(\"Bonjour le monde\"))\n",
    "print(type(\"Au revoir le monde\"))\n",
    "print(type([1,25]))"
   ]
  },
  {
   "cell_type": "markdown",
   "metadata": {},
   "source": [
    "Les phrases `Bonjour le monde` et `Au revoir le monde` sont toutes deux des chaînes de caractères, issues de la classe `str`. La classe est donc une catégorie de valeurs en programmation. Les instances de classes sont elles appelées des objets. En francais donc, `Bonjour le monde` et `Au revoir le monde` sont des objets de la classe `str`.\n",
    "\n",
    "### Les méthodes \n",
    "Les objets peuvent posséder leurs propres fonctions. Nous en avons déjà vu :"
   ]
  },
  {
   "cell_type": "code",
   "execution_count": null,
   "metadata": {},
   "outputs": [],
   "source": [
    "print(\"Bonjour le monde\".replace(\"monde\", \"master TNAH\"))"
   ]
  },
  {
   "cell_type": "markdown",
   "metadata": {},
   "source": [
    "Les fonctions proprent à des classes et à leurs objets sont appelées des méthodes. Elles diffèrent des fonctions habituelles par leur syntaxe : une méthode est appelée après un point `.` et est uniquement accessible pour les classes qui la possèdent. On ne peut pas par exemple faire : "
   ]
  },
  {
   "cell_type": "code",
   "execution_count": null,
   "metadata": {},
   "outputs": [],
   "source": [
    "[1,2,3].replace(1, 3)"
   ]
  },
  {
   "cell_type": "markdown",
   "metadata": {},
   "source": [
    "### Les attributs\n",
    "Un objet peut aussi avoir des attributs. Les attributs sont des propriétés de ces classes qui fonctionnent comme des variables ou des clés de dictionnaires :"
   ]
  },
  {
   "cell_type": "code",
   "execution_count": null,
   "metadata": {},
   "outputs": [],
   "source": [
    "from modules_cours.chapitre5 import objet_exemple\n",
    "\n",
    "print(objet_exemple.attribut_exemple)\n",
    "objet_exemple.attribut_exemple = 1\n",
    "print(objet_exemple.attribut_exemple)\n",
    "# Avec une méthode qui change des choses sans qu'on le voit\n",
    "objet_exemple.change_valeur_attribut_exemple(2)\n",
    "print(objet_exemple.attribut_exemple)"
   ]
  },
  {
   "cell_type": "markdown",
   "metadata": {},
   "source": [
    "### Instancer un objet\n",
    "Pour créer un objet qui ne fait pas partie des types principaux, on utilise généralement le nom de la classe avec les paramètres de base dont elle a besoin. Cela ressemble à l'utilisation d'une fonction :"
   ]
  },
  {
   "cell_type": "code",
   "execution_count": null,
   "metadata": {},
   "outputs": [],
   "source": [
    "from modules_cours.chapitre5 import ObjetExemple\n",
    "\n",
    "objet2 = ObjetExemple()\n",
    "objet2.attribut_exemple = 8\n",
    "print(objet2.attribut_exemple)\n",
    "print(objet_exemple.attribut_exemple)"
   ]
  },
  {
   "cell_type": "markdown",
   "metadata": {},
   "source": [
    "Nous verrons plus tard comment créer nos propres classes et pourquoi. En attendant, une grande partie de python tourne autour des classes et des objets. Vous êtes maintenant au courant du vocabulaire et du système qui l'entoure."
   ]
  },
  {
   "cell_type": "markdown",
   "metadata": {},
   "source": [
    "---\n",
    "\n",
    "## Flask\n",
    "\n",
    "Flask est un framework pour le développement d'application web en Python. Son concurrent principal, Django, est un peu plus utilisé mais pose le problème de sa taille. Flask est parfait pour de petits projets ou des projets simples en général.\n",
    "\n",
    "**Recommendation** : Le Tutorial de Miguel Grinberg est une référence ( https://blog.miguelgrinberg.com/post/the-flask-mega-tutorial-part-i-hello-world ). Son tutorial est en cours de publication open-access (fin de publication le 8 Mai 2018), il est disponible en entier (moyennant finance) à l'achat ( https://learn.miguelgrinberg.com/ ). *L'auteur de ce cours ne profite en rien de l'achat. Il s'agit de rendre à César ce qui est à César*.\n",
    "\n",
    "Flask est un package python, et comme beaucoup de package Python, il est disponible au téléchargement via PyPI (**Py**thon **P**ackage **I**ndex) et s'installe via la commande `pip install flask`. \n",
    "\n",
    "### Travailler sur son propre projet : recommendations\n",
    "\n",
    "*Il est important de revenir à ce passage plus tard dans votre cours quand il s'agira de rendre des devoirs*\n",
    "\n",
    "Quand vous commencerez vos propres projets, nous vous recommandons de procéder toujours avec un *environnement virtuel* : une installation en vase clos de python qui permet de ne pas interférer avec d'autres projets. En effet, les packages python ont des version spécifiques (Flask existe ainsi en 0.12.2, 0.12.1, 0.11, 0.10, *etc*.) et suivant les projets, peut-être que différentes versions seront utilisées. Les environnement virtuels permettent cette cohabitation en faisant des installations limitées à un dossier en particulier.\n",
    "\n",
    "#### Exemple\n",
    "\n",
    "Disons que vous commencez un projet simple de veille technologique avec une sorte de micro-blog. Voici les commandes que nous ferions (avec le commentaire)\n",
    "\n",
    "- `cd ~` *vous met dans votre dossier utilisateur*\n",
    "- `mkdir veille-micro-blog` *crée un dossier appelé veille-micro-blog* (**A exécuter une fois seulement**)\n",
    "- `cd veille-micro-blog` *vous déplace dans ce dossier*\n",
    "- `python3 -m venv env` *crée un environnement virtuel dans un sous-dossier. Alternative à `virtualenv -p python3 env` (**A exécuter une fois seulement**)\n",
    "- `source env/bin/activate` *remplace dans votre session de terminal le lien vers le python 3 global par un lien vers le python 3 de votre environnement virtuel*\n",
    "- `pip install flask` *installe flask dans votre environnement virtuel* (**A exécuter une fois seulement**)\n",
    "\n",
    "Soit si l'on sépare entre le à-faire-pour-mettre-en-place et le à-faire-à-chaque-fois :\n",
    "\n",
    "```sh\n",
    "cd ~\n",
    "mkdir veille-micro-blog\n",
    "cd veille-micro-blog\n",
    "python3 -m venv env\n",
    "source env/bin/activate\n",
    "pip install flask\n",
    "```\n",
    "\n",
    "et \n",
    "\n",
    "```sh\n",
    "cd ~/veille-micro-blog\n",
    "source env/bin/activate\n",
    "```\n",
    "\n",
    "#### Note : Suis-je dans un environnement virtuel ?\n",
    "Si un environnement virtuel est chargé, votre terminal affiche généralement son nom entre parenthèse. Sur ma machine, cela correspond à cela :\n",
    "\n",
    "```\n",
    "thibault@pompei:~$ source env/bin/activate\n",
    "(env) thibault@pompei:~$\n",
    "```\n",
    "\n",
    "On peut tapper la commande `which python` pour savoir où se trouve notre python :\n",
    "\n",
    "```\n",
    "thibault@pompei:~$ which python\n",
    "/usr/bin/python\n",
    "thibault@pompei:~$ source env/bin/activate\n",
    "(env) thibault@pompei:~$ which python\n",
    "home/thibault/env/bin/python\n",
    "```\n",
    "\n",
    "*Pour savoir quels packages sont installés, vous pouvez taper `pip freeze` dans votre terminal sous votre environnement virtuel*\n",
    "\n",
    "### Une application simple\n",
    "\n",
    "Voyons comment faire un site simple. Le code qui suit a été copié dans un fichier python au chemin `cours-flask/exemple1/app.py`. **Important**: Vous devez avoir votre environnement virtual *sourcé* et tapez `python cours-flask/exemple1/app.py` depuis le dossier racine de ce cours. Une fois le code lancé, allez sur [http://127.0.0.1:5000/](http://127.0.0.1:5000/)"
   ]
  },
  {
   "cell_type": "code",
   "execution_count": null,
   "metadata": {},
   "outputs": [],
   "source": [
    "from flask import Flask\n",
    "\n",
    "app = Flask(\"Nom de l'application\")\n",
    "\n",
    "@app.route(\"/\")\n",
    "def index():\n",
    "    return \"Hello world !\"\n",
    "\n",
    "app.run()"
   ]
  },
  {
   "cell_type": "markdown",
   "metadata": {},
   "source": [
    "### Commentaire du code\n",
    "\n",
    "Le code suivant définit un site simpliste :\n",
    "- on crée une application nommée \"Nom de l'application\". Le nom est obligatoire dans Flask car il permet d'avoir plusieurs applications tournant sur le même serveur et de les différencier pour le serveur. Le serveur n'étant pas au courant des noms de variable, c'est le nom d'application qui lui sert.\n",
    "- on définit une route \n",
    "    - en précédant une fonction de `@app.route(\"url_de_la_route\")`\n",
    "    - en écrivant une fonction qui renvoie le contenu de la réponse (Ici une réponse en plein texte et non en html\n",
    "- on lance un serveur de test via *app.run()* \n",
    "\n",
    "## Qu'est-ce qu'une route (et quel rapport avec les URLs ?)\n",
    "\n",
    "Allons sur le site de l'Ecole des Chartes. Nous avons l'adresse http://www.enc-sorbonne.fr/fr/enseignements. Cette adresse se divise en http://www.enc-sorbonne.fr (le domaine) et `/fr/enseignements` (le chemin). Ce chemin (*route* en anglais) correspond pour le site à une certaine page. Quand on développe un site, on ne définit pas une url complète mais seulement le chemin. Ici, `/fr/enseignements`.\n",
    "\n",
    "Mais il est bien sûr possible de faire plus ! Par exemple, que pouvez-vous me dire de ces deux adresses : http://www.enc-sorbonne.fr/fr/cours/initiation-xml et http://www.enc-sorbonne.fr/fr/cours/panorama-ressources-electroniques-existantes ?\n",
    "\n",
    "Le chemin est similaire jusqu'à sa dernière partie ! On trouve souvent ce genre d'adresse par exemple avec des nombres (ce qui rend la chose encore plus claire !) : https://pleiades.stoa.org/places/108776 et https://pleiades.stoa.org/places/167717 où le chemin se découpe en `/places/[nombre]`. \n",
    "\n",
    "### Définir des routes à paramètres\n",
    "\n",
    "Bien sûr, écrire une route par numéro (on parle de 167.717 entrées là tout de même) parait à la fois gargantuesque et idiot. Il est donc possible de définir une route qui fonctionnerait correctement avec cet identifiant :\n",
    "\n",
    "```python\n",
    "@app.route(\"/places/<place_id:int>\")\n",
    "def chemin_place(place_id):\n",
    "    return \"On est sur \" + str(place_id)\n",
    "```\n",
    "\n"
   ]
  }
 ],
 "metadata": {
  "kernelspec": {
   "display_name": "Python 3",
   "language": "python",
   "name": "python3"
  },
  "language_info": {
   "codemirror_mode": {
    "name": "ipython",
    "version": 3
   },
   "file_extension": ".py",
   "mimetype": "text/x-python",
   "name": "python",
   "nbconvert_exporter": "python",
   "pygments_lexer": "ipython3",
   "version": "3.5.2"
  }
 },
 "nbformat": 4,
 "nbformat_minor": 2
}
